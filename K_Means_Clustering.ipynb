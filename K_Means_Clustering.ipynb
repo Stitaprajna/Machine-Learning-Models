{
  "nbformat": 4,
  "nbformat_minor": 0,
  "metadata": {
    "colab": {
      "provenance": [],
      "authorship_tag": "ABX9TyNQ+aIWG6sowJaBjJNQKvDf",
      "include_colab_link": true
    },
    "kernelspec": {
      "name": "python3",
      "display_name": "Python 3"
    },
    "language_info": {
      "name": "python"
    }
  },
  "cells": [
    {
      "cell_type": "markdown",
      "metadata": {
        "id": "view-in-github",
        "colab_type": "text"
      },
      "source": [
        "<a href=\"https://colab.research.google.com/github/Stitaprajna/Machine-Learning-Models/blob/main/K_Means_Clustering.ipynb\" target=\"_parent\"><img src=\"https://colab.research.google.com/assets/colab-badge.svg\" alt=\"Open In Colab\"/></a>"
      ]
    },
    {
      "cell_type": "markdown",
      "source": [
        "**K-Means Algorithm**\n",
        "1. Randomly intialize the centres of each cluster.\n",
        "2. Each data point is assigned a cluster based on the Euclidean distance, the cluster closest to it.\n",
        "3. The positions of the centroids are updated, by recalculating the centers.\n",
        "4. Until the centroids change significantly, we need to iterate 2 and 3 step."
      ],
      "metadata": {
        "id": "5-771U6HN5_i"
      }
    },
    {
      "cell_type": "code",
      "execution_count": null,
      "metadata": {
        "id": "2O7ocou-NEZg"
      },
      "outputs": [],
      "source": [
        "import numpy as np\n",
        "import random\n",
        "\n",
        "data = [[random.randint(0,1000) for _ in range(10)] for _ in range(1000)]\n",
        "data = np.array(data)"
      ]
    },
    {
      "cell_type": "code",
      "source": [
        "def k_means_clustering(data,number_of_clusters,max_iteration,epsilon):\n",
        "  cluster_positions = [[random.randint(0,1000) for _ in range(data.shape[1])] for _ in range(number_of_clusters)]\n",
        "  cluster_positions = np.array(cluster_positions)\n",
        "  points_in_cluster = [[] for i in range(number_of_clusters)]\n",
        "  i = 0\n",
        "  error = 10**5\n",
        "\n",
        "  while i < max_iteration and error > epsilon:\n",
        "    for point in data:\n",
        "      distances_from_centroids = np.array([(sum((point - cluster_positions[cluster])**2))**0.5 for cluster in range(len(cluster_positions))])\n",
        "      cluster_id = np.argmin(distances_from_centroids)\n",
        "      np.append(points_in_cluster[cluster_id],point)\n",
        "      points_in_cluster[cluster_id].append(point)\n",
        "    cluster_positions_updated = [np.mean(np.array(points_in_cluster[cluster]),axis=0) if len(points_in_cluster[cluster])>0 else cluster_positions[cluster]  for cluster in range(len(points_in_cluster))]\n",
        "    diff = cluster_positions - cluster_positions_updated\n",
        "    diff = diff.flatten()\n",
        "    error = (np.sum(diff**2))**0.5\n",
        "    print('iteration =',i,'error =',error)\n",
        "    cluster_positions = np.array(cluster_positions_updated)\n",
        "    i+=1"
      ],
      "metadata": {
        "id": "j1dnP96IT6bb"
      },
      "execution_count": null,
      "outputs": []
    },
    {
      "cell_type": "code",
      "source": [
        "k_means_clustering(data,4,100,0.1)"
      ],
      "metadata": {
        "colab": {
          "base_uri": "https://localhost:8080/"
        },
        "id": "TZGdP94_f6Hs",
        "outputId": "f420f9bc-8bef-40ff-a1ee-83c73a81318d"
      },
      "execution_count": null,
      "outputs": [
        {
          "output_type": "stream",
          "name": "stdout",
          "text": [
            "iteration = 0 error = 1181.4654735136392\n",
            "iteration = 1 error = 118.98219733545346\n",
            "iteration = 2 error = 52.63187970073075\n",
            "iteration = 3 error = 34.265182811305365\n",
            "iteration = 4 error = 25.640621811276297\n",
            "iteration = 5 error = 20.05042572091418\n",
            "iteration = 6 error = 15.848151845032925\n",
            "iteration = 7 error = 12.771881670283479\n",
            "iteration = 8 error = 10.992149656387923\n",
            "iteration = 9 error = 8.921369841711373\n",
            "iteration = 10 error = 7.954442001088694\n",
            "iteration = 11 error = 7.086942767501774\n",
            "iteration = 12 error = 6.172046443395126\n",
            "iteration = 13 error = 5.6249835918466\n",
            "iteration = 14 error = 5.287565819159466\n",
            "iteration = 15 error = 4.926722296449063\n",
            "iteration = 16 error = 4.43517568261582\n",
            "iteration = 17 error = 4.00512340776174\n",
            "iteration = 18 error = 3.89227281862294\n",
            "iteration = 19 error = 3.6610728018372\n",
            "iteration = 20 error = 3.6960920765029908\n",
            "iteration = 21 error = 3.5779683361868195\n",
            "iteration = 22 error = 3.537438093154303\n",
            "iteration = 23 error = 3.3998786704163413\n",
            "iteration = 24 error = 3.356799804522162\n",
            "iteration = 25 error = 3.1725843268308958\n",
            "iteration = 26 error = 3.002831572778987\n",
            "iteration = 27 error = 2.824771591577378\n",
            "iteration = 28 error = 2.7372312483360113\n",
            "iteration = 29 error = 2.623222668855594\n",
            "iteration = 30 error = 2.538605673354055\n",
            "iteration = 31 error = 2.3957781628390733\n",
            "iteration = 32 error = 2.3003959096849136\n",
            "iteration = 33 error = 2.1852167282903356\n",
            "iteration = 34 error = 2.1722956922454033\n",
            "iteration = 35 error = 2.0503485335887883\n",
            "iteration = 36 error = 1.9914204641583797\n",
            "iteration = 37 error = 1.9336904477822272\n",
            "iteration = 38 error = 1.8334940417542562\n",
            "iteration = 39 error = 1.7409301425135306\n",
            "iteration = 40 error = 1.7274021682227962\n",
            "iteration = 41 error = 1.6723563849062402\n",
            "iteration = 42 error = 1.678888334085853\n",
            "iteration = 43 error = 1.6417144787924136\n",
            "iteration = 44 error = 1.6539635159832689\n",
            "iteration = 45 error = 1.6267393935473962\n",
            "iteration = 46 error = 1.55661567939119\n",
            "iteration = 47 error = 1.5027355828015485\n",
            "iteration = 48 error = 1.4407613311439649\n",
            "iteration = 49 error = 1.4017116900284239\n",
            "iteration = 50 error = 1.3462301896075624\n",
            "iteration = 51 error = 1.3699081100306096\n",
            "iteration = 52 error = 1.3602782307408492\n",
            "iteration = 53 error = 1.3094960301852054\n",
            "iteration = 54 error = 1.2615172506350394\n",
            "iteration = 55 error = 1.2161384543245368\n",
            "iteration = 56 error = 1.1731743973281112\n",
            "iteration = 57 error = 1.1324561045209527\n",
            "iteration = 58 error = 1.108228986346856\n",
            "iteration = 59 error = 1.0710489175385325\n",
            "iteration = 60 error = 1.0851410658908807\n",
            "iteration = 61 error = 1.0716390322210567\n",
            "iteration = 62 error = 1.0619025548442624\n",
            "iteration = 63 error = 1.0286139058402324\n",
            "iteration = 64 error = 1.0218177359465\n",
            "iteration = 65 error = 0.9907281543885584\n",
            "iteration = 66 error = 0.961042240431234\n",
            "iteration = 67 error = 0.9326763998701176\n",
            "iteration = 68 error = 0.9153851689825508\n",
            "iteration = 69 error = 0.8989752079828388\n",
            "iteration = 70 error = 0.8735756958916284\n",
            "iteration = 71 error = 0.8728843533163141\n",
            "iteration = 72 error = 0.8488975160889911\n",
            "iteration = 73 error = 0.8391408762810125\n",
            "iteration = 74 error = 0.8233735633838266\n",
            "iteration = 75 error = 0.8255542575612845\n",
            "iteration = 76 error = 0.8039785549302337\n",
            "iteration = 77 error = 0.7832407086621412\n",
            "iteration = 78 error = 0.7998675258916393\n",
            "iteration = 79 error = 0.7797737875596158\n",
            "iteration = 80 error = 0.7981237549057794\n",
            "iteration = 81 error = 0.7785892698648169\n",
            "iteration = 82 error = 0.7597656312099046\n",
            "iteration = 83 error = 0.741618651829405\n",
            "iteration = 84 error = 0.724116181870957\n",
            "iteration = 85 error = 0.7072279643285354\n",
            "iteration = 86 error = 0.7005699918528763\n",
            "iteration = 87 error = 0.6845895352440738\n",
            "iteration = 88 error = 0.669151314542269\n",
            "iteration = 89 error = 0.6542310006718964\n",
            "iteration = 90 error = 0.6398056178553752\n",
            "iteration = 91 error = 0.632101590361965\n",
            "iteration = 92 error = 0.6184606061829498\n",
            "iteration = 93 error = 0.6052577285716113\n",
            "iteration = 94 error = 0.5924743428198965\n",
            "iteration = 95 error = 0.5944311233929909\n",
            "iteration = 96 error = 0.5821131031065332\n",
            "iteration = 97 error = 0.5701751047572593\n",
            "iteration = 98 error = 0.5586016125254021\n",
            "iteration = 99 error = 0.5473778965965955\n"
          ]
        }
      ]
    },
    {
      "cell_type": "code",
      "source": [],
      "metadata": {
        "id": "o8HPxDAzPCra"
      },
      "execution_count": null,
      "outputs": []
    }
  ]
}
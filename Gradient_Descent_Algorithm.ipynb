{
  "nbformat": 4,
  "nbformat_minor": 0,
  "metadata": {
    "colab": {
      "provenance": [],
      "authorship_tag": "ABX9TyNmqmzLecXn7P+S4s/Gmfd/",
      "include_colab_link": true
    },
    "kernelspec": {
      "name": "python3",
      "display_name": "Python 3"
    },
    "language_info": {
      "name": "python"
    }
  },
  "cells": [
    {
      "cell_type": "markdown",
      "metadata": {
        "id": "view-in-github",
        "colab_type": "text"
      },
      "source": [
        "<a href=\"https://colab.research.google.com/github/Stitaprajna/Machine-Learning-Models/blob/main/Gradient_Descent_Algorithm.ipynb\" target=\"_parent\"><img src=\"https://colab.research.google.com/assets/colab-badge.svg\" alt=\"Open In Colab\"/></a>"
      ]
    },
    {
      "cell_type": "markdown",
      "source": [
        "**Gradient-Descent Algorithm:**\n",
        "\n",
        "1. At first, the value of the parameter is randomly choosen.\n",
        "\n",
        "2. The cost function is used to calculate the error in model's output and the ground truth.\n",
        "\n",
        "3. Calculation of Gradiant.\n",
        "\n",
        "4. Update of the parameter, until the epochs finish."
      ],
      "metadata": {
        "id": "d0dU-Jo2qWSv"
      }
    },
    {
      "cell_type": "code",
      "execution_count": null,
      "metadata": {
        "id": "8ucSi_c9pdw7"
      },
      "outputs": [],
      "source": [
        "import random\n",
        "def gradiant_descent_algorithm():\n",
        "  intial_value_of_parameter = random.ranint(0,100)\n",
        "  pass"
      ]
    }
  ]
}